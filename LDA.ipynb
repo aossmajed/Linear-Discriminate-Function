{
  "nbformat": 4,
  "nbformat_minor": 0,
  "metadata": {
    "colab": {
      "name": "LDA.ipynb",
      "provenance": [],
      "collapsed_sections": [],
      "authorship_tag": "ABX9TyNoEuQ+h1vxUql4yPWd/Y1Y",
      "include_colab_link": true
    },
    "kernelspec": {
      "name": "python3",
      "display_name": "Python 3"
    },
    "language_info": {
      "name": "python"
    }
  },
  "cells": [
    {
      "cell_type": "markdown",
      "metadata": {
        "id": "view-in-github",
        "colab_type": "text"
      },
      "source": [
        "<a href=\"https://colab.research.google.com/github/aossmajed/Linear-Discriminate-Function/blob/main/LDA.ipynb\" target=\"_parent\"><img src=\"https://colab.research.google.com/assets/colab-badge.svg\" alt=\"Open In Colab\"/></a>"
      ]
    },
    {
      "cell_type": "markdown",
      "source": [
        "#**Aoss Majed Sultan Zaid**\n",
        "\n",
        " \n",
        " \n"
      ],
      "metadata": {
        "id": "INloy-V_8gSY"
      }
    },
    {
      "cell_type": "markdown",
      "source": [
        "#**1-Linear Discriminant Function**\n",
        "\n"
      ],
      "metadata": {
        "id": "_Clb0E_UBpez"
      }
    },
    {
      "cell_type": "markdown",
      "source": [
        "**Import libraries**"
      ],
      "metadata": {
        "id": "d4sOkUPU9AZK"
      }
    },
    {
      "cell_type": "code",
      "execution_count": null,
      "metadata": {
        "id": "swd0AR3m7TIO"
      },
      "outputs": [],
      "source": [
        "import numpy as np\n",
        "import pandas as pd\n",
        "import matplotlib.pyplot as plt\n",
        "from sklearn import datasets\n",
        "from sklearn.discriminant_analysis import LinearDiscriminantAnalysis\n",
        "from sklearn.model_selection import train_test_split\n",
        "import numpy as np"
      ]
    },
    {
      "cell_type": "markdown",
      "source": [
        "**Load  Data**"
      ],
      "metadata": {
        "id": "C1sDWXcy9WwB"
      }
    },
    {
      "cell_type": "code",
      "source": [
        "iris = datasets.load_iris()\n",
        "X_DATA =iris.data\n",
        "Y_DATA =iris.target\n",
        "target_names=iris.target_names\n",
        "target_names"
      ],
      "metadata": {
        "colab": {
          "base_uri": "https://localhost:8080/"
        },
        "id": "-hcEqhX78OlE",
        "outputId": "c6963a6b-0aa6-4220-c89b-6b7f8d2fe51f"
      },
      "execution_count": null,
      "outputs": [
        {
          "output_type": "execute_result",
          "data": {
            "text/plain": [
              "array(['setosa', 'versicolor', 'virginica'], dtype='<U10')"
            ]
          },
          "metadata": {},
          "execution_count": 2
        }
      ]
    },
    {
      "cell_type": "markdown",
      "source": [
        "**Split Data( %85 , %15)**"
      ],
      "metadata": {
        "id": "-pID83vUCgVD"
      }
    },
    {
      "cell_type": "code",
      "source": [
        "X_tr=X_DATA[:40]\n",
        "X_tr= np.append(X_tr, X_DATA[50:90])\n",
        "X_tr= np.append(X_tr, X_DATA[100:140])\n",
        "X_tr=np.reshape(X_tr,(120,4))\n",
        "\n",
        "Y_tr=Y_DATA[:40]\n",
        "Y_tr=np.append(Y_tr,Y_DATA[50:90])\n",
        "Y_tr=np.append(Y_tr,Y_DATA[100:140])\n",
        "\n",
        "X_te=X_DATA[40:50]\n",
        "X_te=np.append(X_te,X_DATA[90:100])\n",
        "X_te=np.append(X_te,X_DATA[140:])\n",
        "X_te=np.reshape(X_te,(30,4))\n",
        "\n",
        "Y_te=Y_DATA[40:50]\n",
        "Y_te=np.append(Y_te,Y_DATA[90:100])\n",
        "Y_te=np.append(Y_te,Y_DATA[140:])"
      ],
      "metadata": {
        "id": "O0aN6TR58Rxs"
      },
      "execution_count": null,
      "outputs": []
    },
    {
      "cell_type": "markdown",
      "source": [
        "**Get Z Matrix**"
      ],
      "metadata": {
        "id": "FV8YBPRGCuM7"
      }
    },
    {
      "cell_type": "code",
      "source": [
        "X_tr2=X_tr[:,1:].copy()\n",
        "N = len(X_tr2)\n",
        "X_tr2 =np.c_[X_tr2, np.ones(N) ]\n",
        "# print(X_tr2)\n",
        "Z1=[]\n",
        "Z2=[]\n",
        "Z3=[]\n",
        "for k in range(0,3):\n",
        "     if k==0:\n",
        "         for i in range ( 0, len ( X_tr2 ) ):\n",
        "             if i<40:\n",
        "                 Z1.append(X_tr2[i])\n",
        "             else:\n",
        "                 Z1.append(X_tr2[i]*-1)\n",
        "\n",
        "     if k==1:\n",
        "         for i in range ( 0, len ( X_tr2 ) ):\n",
        "             if i>=40 and i<80:\n",
        "                 Z2.append(X_tr2[i])\n",
        "             else:\n",
        "                 Z2.append(X_tr2[i]*-1)\n",
        "     if k == 2:\n",
        "            for i in range ( 0, len ( X_tr2 ) ):\n",
        "                if  i>=80:\n",
        "                    Z3.append ( X_tr2[i] )\n",
        "                else:\n",
        "                    Z3.append ( X_tr2[i] * -1 )\n",
        "\n",
        "\n",
        "Z1=np.array(Z1)\n",
        "Z2=np.array(Z2)\n",
        "Z3=np.array(Z3)"
      ],
      "metadata": {
        "id": "3KYdKjnb9yuf"
      },
      "execution_count": null,
      "outputs": []
    },
    {
      "cell_type": "markdown",
      "source": [
        "**Apply LDF Equation**"
      ],
      "metadata": {
        "id": "PwLmUmIOC01F"
      }
    },
    {
      "cell_type": "code",
      "source": [
        "def LDF (Z):\n",
        "     b = np.ones (len(Z))\n",
        "     ZT = Z.T\n",
        "     ZT_Z= np.dot(ZT,Z)\n",
        "     ZT_Z_INV= np.linalg.inv(ZT_Z)\n",
        "     ZT_Z_INV_ZT =np.dot(ZT_Z_INV,ZT ) #ZT_Z_INV *ZT\n",
        "     ZT_Z_INV_ZT_B =np.dot(ZT_Z_INV_ZT,b ) #ZT_Z_INV_ZT*b\n",
        "     return ZT_Z_INV_ZT_B"
      ],
      "metadata": {
        "id": "oYxwZqFy-qSu"
      },
      "execution_count": null,
      "outputs": []
    },
    {
      "cell_type": "markdown",
      "source": [
        "#Get W"
      ],
      "metadata": {
        "id": "JunWCngQDUmd"
      }
    },
    {
      "cell_type": "code",
      "source": [
        "W1=LDF(Z1)\n",
        "W2=LDF(Z2)\n",
        "W3=LDF(Z3)\n",
        "print(W1)\n",
        "print(W2)\n",
        "print(W3)"
      ],
      "metadata": {
        "colab": {
          "base_uri": "https://localhost:8080/"
        },
        "id": "bLvqFBDB-qYW",
        "outputId": "9c0765d7-e8ee-4063-e333-5d298d735c3c"
      },
      "execution_count": null,
      "outputs": [
        {
          "output_type": "stream",
          "name": "stdout",
          "text": [
            "[ 0.56190773 -0.29583781 -0.31512433 -0.55688464]\n",
            "[-0.91126976  0.2550579  -0.61180268  2.22006923]\n",
            "[ 0.34936203  0.04077991  0.92692701 -2.6631846 ]\n"
          ]
        }
      ]
    },
    {
      "cell_type": "markdown",
      "source": [
        "**Multiply  W in the features of test Data**"
      ],
      "metadata": {
        "id": "QByHfEpyEB_p"
      }
    },
    {
      "cell_type": "code",
      "source": [
        "X_te2=X_te[:,1:].copy()\n",
        "N2 = len(X_te2)\n",
        "X_te2 =np.c_[X_te2, np.ones(N2) ]\n",
        "def mult(X_te2,W):\n",
        "    CLF=[]\n",
        "    for i in range(0,len(X_te2)):\n",
        "        CLF.append(np.sum(X_te2[i]*W))\n",
        "    return CLF\n",
        "\n",
        "OP1=mult(X_te2,W1)\n",
        "OP2=mult(X_te2,W2)\n",
        "OP3=mult(X_te2,W3)\n",
        "print(OP1)\n",
        "print(OP2)\n",
        "print(OP3)"
      ],
      "metadata": {
        "colab": {
          "base_uri": "https://localhost:8080/"
        },
        "id": "-oyymjEt-1pF",
        "outputId": "e8c35323-8a96-4979-8f46-66f02cc3f7fa"
      },
      "execution_count": null,
      "outputs": [
        {
          "output_type": "stream",
          "name": "stdout",
          "text": [
            "[0.9306659821854156, 0.25637670050650985, 0.7936060948365372, 0.7473773403376641, 0.8902231842638791, 0.6201283339408025, 1.0419993930407827, 0.7640223139581349, 1.015392400445943, 0.8202130874313768, -0.7757600839418728, -0.6731894179474049, -0.6574249604282627, -0.5558859485574756, -0.6919141817826733, -0.49182942829209914, -0.5795326348361891, -0.6091164157145914, -0.3862654920466318, -0.6061396274310287, -1.2279607839666675, -1.0485294465038069, -1.1472428081133834, -1.2290089200577847, -1.1766754509694337, -1.1343040008554517, -1.2300405741814655, -1.039766701642908, -0.9687084687192882, -0.9471580546228092]\n",
            "[-0.8213404732725147, 0.2721832427914934, -0.48677927673313004, -0.9283639066867542, -1.0028669315000789, -0.3401998018605412, -0.9570237656092231, -0.461273487014493, -0.8914025789891928, -0.5524004633531603, 0.2388593873427831, -0.1969974736213791, 0.13683622846823607, 0.3540371645005469, 0.03554056404345873, -0.1766600974491599, -0.14671338863387584, -0.1212075989152388, 0.03408557514391797, -0.08109220201384515, -0.644869228007511, -0.7112179090773116, -0.10198893362910955, -0.5982985676668848, -0.8627976584895922, -0.5945851430200073, 0.05475922932958843, -0.4110443404498576, -0.9080814689374033, -0.3141895951217277]\n",
            "[-1.109325508912917, -1.5285599432980235, -1.306826818103423, -0.8190134336509285, -0.8873562527638108, -1.279928532080278, -1.08497562743157, -1.3027488269436565, -1.123989821456762, -1.267812624078231, -0.463099303400913, -0.12981310843121863, -0.47941126803998024, -0.7981512159430828, -0.34362638226079145, -0.33151047425874447, -0.2737539765299406, -0.2696759853701738, -0.6478200830973022, -0.31276817055513284, 0.8728300119741692, 0.7597473555811058, 0.24923174174248608, 0.8273074877246653, 1.039473109459017, 0.7288891438754472, 0.17528134485186797, 0.4508110420927589, 0.8767899376566826, 0.2613476497445335]\n"
          ]
        }
      ]
    },
    {
      "cell_type": "markdown",
      "source": [
        "**classification**"
      ],
      "metadata": {
        "id": "xrUL2CJCEX0H"
      }
    },
    {
      "cell_type": "code",
      "source": [
        "new_name_data = np.append (target_names, [\"Undetermined\",\"New Class\"])"
      ],
      "metadata": {
        "id": "6-gEsNlb_G89"
      },
      "execution_count": null,
      "outputs": []
    },
    {
      "cell_type": "code",
      "source": [
        "def final_op(OP1,OP2 ,OP3):\n",
        "    new_y=[]\n",
        "    for i in range(0,len(OP1)):\n",
        "        if (OP1[i] > 0 and OP2[i] < 0 and OP3[i] < 0):\n",
        "            new_y.append ( 0 )\n",
        "        if (OP1[i] < 0 and OP2[i] > 0 and OP3[i] < 0):\n",
        "            new_y.append ( 1 )\n",
        "        if (OP1[i] < 0 and OP2[i] < 0 and OP3[i] > 0):\n",
        "            new_y.append ( 2 )\n",
        "        if (OP1[i] < 0 and OP2[i] > 0 and OP3[i] > 0):\n",
        "            new_y.append ( 3 )\n",
        "            # new_y.append ( Y_tr[i] )\n",
        "        if (OP1[i] > 0 and OP2[i] < 0 and OP3[i] > 0):\n",
        "            new_y.append ( 3 )\n",
        "            # new_y.append ( Y_te[i] )\n",
        "        if (OP1[i] > 0 and OP2[i] > 0 and OP3[i] < 0):\n",
        "            new_y.append ( 3 )\n",
        "            # new_y.append ( Y_te[i] )\n",
        "        if (OP1[i]<0 and OP2[i]<0 and OP3[i]<0):\n",
        "            new_y.append(4)\n",
        "            #new_y.append ( Y_te[i] )\n",
        "    return new_y\n",
        "\n",
        "Y_NEW =final_op(OP1,OP2,OP3)"
      ],
      "metadata": {
        "id": "Cw3rAKSC_Qdt"
      },
      "execution_count": null,
      "outputs": []
    },
    {
      "cell_type": "code",
      "source": [
        "print(Y_te)\n",
        "print(Y_NEW)"
      ],
      "metadata": {
        "colab": {
          "base_uri": "https://localhost:8080/"
        },
        "id": "uOuVubMlIJxK",
        "outputId": "82e94bdf-29e5-40e3-ec7b-a2876bb13a4c"
      },
      "execution_count": null,
      "outputs": [
        {
          "output_type": "stream",
          "name": "stdout",
          "text": [
            "[0 0 0 0 0 0 0 0 0 0 1 1 1 1 1 1 1 1 1 1 2 2 2 2 2 2 2 2 2 2]\n",
            "[0, 3, 0, 0, 0, 0, 0, 0, 0, 0, 1, 4, 1, 1, 1, 4, 4, 4, 1, 4, 2, 2, 2, 2, 2, 2, 3, 2, 2, 2]\n"
          ]
        }
      ]
    },
    {
      "cell_type": "code",
      "source": [
        "X_ALL=X_tr2\n",
        "X_ALL=np.append(X_ALL,X_te2)\n",
        "Y_ALL=Y_tr\n",
        "Y_ALL=np.append(Y_ALL,Y_NEW)\n",
        "X_ALL=np.reshape(X_ALL,(150,4))"
      ],
      "metadata": {
        "id": "dg10eEzG_xKl"
      },
      "execution_count": null,
      "outputs": []
    },
    {
      "cell_type": "markdown",
      "source": [
        "**Plot ALL Data Before LDF**"
      ],
      "metadata": {
        "id": "dAjfJzaDEa4i"
      }
    },
    {
      "cell_type": "code",
      "source": [
        "colors = ['RED', 'BLUE', 'tan',\"PINK\",\"green\"]\n",
        "vectorizer = np.vectorize(lambda x: colors[x % len(colors)])\n",
        "fig = plt.figure()\n",
        "ax = fig.add_subplot()\n",
        "for  D,color, group in zip( X_DATA,colors,target_names):\n",
        "  X,Y = X_DATA[:,2],X_DATA[:,3]\n",
        "  ax.scatter(X,Y, c=color, edgecolors='none', s=30, label=group)\n",
        "plt.scatter(X_DATA[:,2],X_DATA[:,3],c=vectorizer(Y_DATA))\n",
        "plt.legend(loc=2)"
      ],
      "metadata": {
        "colab": {
          "base_uri": "https://localhost:8080/",
          "height": 284
        },
        "id": "MoUUngkk_0Wl",
        "outputId": "bff21b6a-8473-426e-ae71-9e1dbf8ff387"
      },
      "execution_count": null,
      "outputs": [
        {
          "output_type": "execute_result",
          "data": {
            "text/plain": [
              "<matplotlib.legend.Legend at 0x7fe9cb36e810>"
            ]
          },
          "metadata": {},
          "execution_count": 12
        },
        {
          "output_type": "display_data",
          "data": {
            "text/plain": [
              "<Figure size 432x288 with 1 Axes>"
            ],
            "image/png": "[encoded data removed]"
          },
          "metadata": {
            "needs_background": "light"
          }
        }
      ]
    },
    {
      "cell_type": "markdown",
      "source": [
        "**Plot ALL Data After LDF**"
      ],
      "metadata": {
        "id": "K8GlrmvQEywG"
      }
    },
    {
      "cell_type": "code",
      "source": [
        "fig = plt.figure()\n",
        "ax = fig.add_subplot()\n",
        "for  D,color, group in zip(X_ALL,colors,new_name_data):\n",
        "  X,Y = X_ALL[:,1],X_ALL[:,2]\n",
        "  ax.scatter(X,Y, c=color, edgecolors='none', s=30, label=group)\n",
        "plt.scatter(X_ALL[:,1],X_ALL[:,2],c=vectorizer(Y_ALL))\n",
        "plt.legend(loc=2)\n",
        "\n",
        "plt.show()"
      ],
      "metadata": {
        "colab": {
          "base_uri": "https://localhost:8080/",
          "height": 265
        },
        "id": "-XOIJdLG_dhk",
        "outputId": "85b81e6b-bf71-4238-be91-6cdeb25cca9a"
      },
      "execution_count": null,
      "outputs": [
        {
          "output_type": "display_data",
          "data": {
            "text/plain": [
              "<Figure size 432x288 with 1 Axes>"
            ],
            "image/png": "[encoded data removed]"
          },
          "metadata": {
            "needs_background": "light"
          }
        }
      ]
    },
    {
      "cell_type": "markdown",
      "source": [
        "**The Accuracy**"
      ],
      "metadata": {
        "id": "kzeqdp_RE5i5"
      }
    },
    {
      "cell_type": "code",
      "source": [
        "from sklearn.metrics import accuracy_score\n",
        "print(\"accuracy found is : %\",np.round((accuracy_score(Y_NEW,Y_te))*100))"
      ],
      "metadata": {
        "colab": {
          "base_uri": "https://localhost:8080/"
        },
        "id": "ByTzRZjxABfH",
        "outputId": "90cadc07-f5f1-4f20-dedf-324618190ee7"
      },
      "execution_count": null,
      "outputs": [
        {
          "output_type": "stream",
          "name": "stdout",
          "text": [
            "accuracy found is : % 77.0\n"
          ]
        }
      ]
    },
    {
      "cell_type": "markdown",
      "source": [
        "#**2-Linear Discriminant Function (LDA)**\n"
      ],
      "metadata": {
        "id": "7Ctm1hW_FXx_"
      }
    },
    {
      "cell_type": "code",
      "source": [
        "from sklearn.discriminant_analysis import LinearDiscriminantAnalysis\n",
        "from sklearn.model_selection import train_test_split\n",
        "X_tra, X_tes, y_tra ,y_tes= train_test_split(X_DATA,Y_DATA,test_size=0.15,random_state=5)\n",
        "LDA = LinearDiscriminantAnalysis()\n",
        "A=LDA.fit(X_tra,y_tra)\n",
        "y_pred = A.predict(X_tes)\n",
        "print(\"accuracy found is : %\",np.round((accuracy_score(y_pred,y_tes))*100))\n",
        "\n",
        "y_pred\n"
      ],
      "metadata": {
        "colab": {
          "base_uri": "https://localhost:8080/"
        },
        "id": "3h-6m_cTFhJP",
        "outputId": "916f637c-a09e-43e0-b519-42f8bdfcaaa5"
      },
      "execution_count": null,
      "outputs": [
        {
          "output_type": "stream",
          "name": "stdout",
          "text": [
            "accuracy found is : % 91.0\n"
          ]
        },
        {
          "output_type": "execute_result",
          "data": {
            "text/plain": [
              "array([1, 2, 2, 0, 2, 1, 0, 2, 0, 1, 1, 1, 2, 2, 0, 0, 2, 2, 0, 0, 1, 2,\n",
              "       0])"
            ]
          },
          "metadata": {},
          "execution_count": 15
        }
      ]
    }
  ]
}